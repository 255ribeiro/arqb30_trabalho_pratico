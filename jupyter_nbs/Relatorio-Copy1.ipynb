{
 "cells": [
  {
   "cell_type": "markdown",
   "metadata": {},
   "source": [
    "# Mineração de Dados Espaciais"
   ]
  },
  {
   "cell_type": "markdown",
   "metadata": {},
   "source": [
    "Fernando Ferraz Ribeiro\n",
    "\n",
    "Beth Leite Soares"
   ]
  },
  {
   "cell_type": "markdown",
   "metadata": {},
   "source": [
    "O objetivo deste notebook é juntar dados de um shapefile com um mapa do Open Street Maps(OSM)"
   ]
  },
  {
   "cell_type": "markdown",
   "metadata": {},
   "source": [
    "## Testando o ambiente de trabalho (conda environment)\n",
    "Mostrando o caminho que o servidor Jupyter carrega o Python (python.exe) e carregas o anbiente (\\envs)"
   ]
  },
  {
   "cell_type": "code",
   "execution_count": 1,
   "metadata": {},
   "outputs": [
    {
     "name": "stdout",
     "output_type": "stream",
     "text": [
      "C:\\Users\\ffrib\\AppData\\Local\\conda\\conda\\envs\\gpd_psycopg2_ox\\python.exe\n",
      "C:\\Users\\ffrib\\AppData\\Local\\conda\\conda\\envs\\gpd_psycopg2_ox\n"
     ]
    }
   ],
   "source": [
    "import os\n",
    "import sys\n",
    "print(sys.executable)\n",
    "pathFix = sys.prefix\n",
    "print(pathFix)"
   ]
  },
  {
   "cell_type": "markdown",
   "metadata": {},
   "source": [
    "## Lidando com erros do ambiente (WINDOWS ONLY)\n",
    "Algumas bibliotecas importadas apresentam um erro apendas na plataforma Windows.\n",
    "\n",
    "Caso esteja rodando no windos e tenha problemas com o sistema de coordenadas de referência (crs), rode a linha de comando abaixo:\n"
   ]
  },
  {
   "cell_type": "code",
   "execution_count": 2,
   "metadata": {},
   "outputs": [
    {
     "name": "stdout",
     "output_type": "stream",
     "text": [
      "C:/Users/ffrib/AppData/Local/conda/conda/envs/gpd_psycopg2_ox\n"
     ]
    }
   ],
   "source": [
    "pathFix = pathFix .replace('\\\\', '/')\n",
    "print(pathFix)\n",
    "os.environ[\"PROJ_LIB\"] =   pathFix + \"/Library/share\""
   ]
  },
  {
   "cell_type": "markdown",
   "metadata": {},
   "source": [
    "\n",
    "mais informações no [Post sobre o Erro](https://github.com/geopandas/geopandas/issues/830)"
   ]
  },
  {
   "cell_type": "markdown",
   "metadata": {},
   "source": [
    "## Importando Bibliotecas"
   ]
  },
  {
   "cell_type": "code",
   "execution_count": 3,
   "metadata": {},
   "outputs": [],
   "source": [
    "# Biblioteca basica de programação científica em python\n",
    "import numpy as np\n",
    "# biblioteca de análise de dados\n",
    "import pandas as pd\n",
    "# biblioteca de gráficos\n",
    "import matplotlib.pyplot as plt\n",
    "import matplotlib.cm as cm\n",
    "import matplotlib.colors as colors\n",
    "# Bibliotecas geopandas\n",
    "import geopandas as gpd\n",
    "# biblioteca de redes complexas\n",
    "import networkx as nx\n",
    "# biblioteca para acessar dados do Open sreet maps\n",
    "import osmnx as ox\n",
    "# ler dados remotamente da internet\n",
    "import requests\n",
    "# Biblioteca para leitura e escrita em um DB postergSQL\n",
    "import psycopg2 as pyql"
   ]
  },
  {
   "cell_type": "code",
   "execution_count": 15,
   "metadata": {},
   "outputs": [
    {
     "ename": "ModuleNotFoundError",
     "evalue": "No module named 'geoalchemy2'",
     "output_type": "error",
     "traceback": [
      "\u001b[1;31m---------------------------------------------------------------------------\u001b[0m",
      "\u001b[1;31mModuleNotFoundError\u001b[0m                       Traceback (most recent call last)",
      "\u001b[1;32m<ipython-input-15-a17d8929e3e7>\u001b[0m in \u001b[0;36m<module>\u001b[1;34m\u001b[0m\n\u001b[0;32m      3\u001b[0m \u001b[1;32mimport\u001b[0m \u001b[0mpandas\u001b[0m \u001b[1;32mas\u001b[0m \u001b[0mpd\u001b[0m\u001b[1;33m\u001b[0m\u001b[1;33m\u001b[0m\u001b[0m\n\u001b[0;32m      4\u001b[0m \u001b[1;32mimport\u001b[0m \u001b[0mgeopandas\u001b[0m \u001b[1;32mas\u001b[0m \u001b[0mgpd\u001b[0m\u001b[1;33m\u001b[0m\u001b[1;33m\u001b[0m\u001b[0m\n\u001b[1;32m----> 5\u001b[1;33m \u001b[1;32mfrom\u001b[0m \u001b[0mgeoalchemy2\u001b[0m \u001b[1;32mimport\u001b[0m \u001b[0mGeometry\u001b[0m\u001b[1;33m,\u001b[0m \u001b[0mWKTElement\u001b[0m\u001b[1;33m\u001b[0m\u001b[1;33m\u001b[0m\u001b[0m\n\u001b[0m",
      "\u001b[1;31mModuleNotFoundError\u001b[0m: No module named 'geoalchemy2'"
     ]
    }
   ],
   "source": [
    "\n",
    "from sqlalchemy import *\n",
    "import pandas as pd\n",
    "import geopandas as gpd\n",
    "from geoalchemy2 import Geometry, WKTElement\n"
   ]
  },
  {
   "cell_type": "code",
   "execution_count": 4,
   "metadata": {},
   "outputs": [
    {
     "data": {
      "text/plain": [
       "'0.8.2'"
      ]
     },
     "execution_count": 4,
     "metadata": {},
     "output_type": "execute_result"
    }
   ],
   "source": [
    "%matplotlib inline\n",
    "ox.config(use_cache=True, log_console=True)\n",
    "ox.__version__"
   ]
  },
  {
   "cell_type": "markdown",
   "metadata": {},
   "source": [
    "## Criando coordenadas de recorte"
   ]
  },
  {
   "cell_type": "code",
   "execution_count": 5,
   "metadata": {},
   "outputs": [],
   "source": [
    "# coordenada inicial x\n",
    "xSC = 555000\n",
    "# variação da coordenada x\n",
    "deltaX = 2000\n",
    "# coordenada inicial y\n",
    "ySC = 8570000\n",
    "# variação da coordenada y\n",
    "deltaY = 2000"
   ]
  },
  {
   "cell_type": "markdown",
   "metadata": {},
   "source": [
    "## Limites da importaçâo"
   ]
  },
  {
   "cell_type": "code",
   "execution_count": 6,
   "metadata": {},
   "outputs": [],
   "source": [
    "from shapely.geometry import Polygon\n",
    "\n",
    "recorte = gpd.GeoSeries([ Polygon([(xSC,ySC), (xSC + deltaX , ySC), (xSC + deltaX, ySC + deltaY ), (xSC, ySC + deltaY )]) ])"
   ]
  },
  {
   "cell_type": "markdown",
   "metadata": {},
   "source": [
    "A geometria criada pela linha de comando acima, embora tenha as corrdenadas relativas ao sistema de projeção Sigras 2000, não tem nenhuma informação georreferenciada. É preciso informar qual o sistema de coordenadas de referência utilizado ( coordenates reference sistem - crs). O Bloco de código abaxo informa que as coordenadas do recorte devem ser tratadas com o sistema Sigras 2000. com unidades em metro."
   ]
  },
  {
   "cell_type": "code",
   "execution_count": 7,
   "metadata": {},
   "outputs": [],
   "source": [
    "# colocando em coordenaadas SIRGAS 2000\n",
    "recorte.crs = {'proj': 'utm', 'zone': 24, 'south': True, 'ellps': 'aust_SA', 'units': 'm', 'no_defs': True}\n"
   ]
  },
  {
   "cell_type": "markdown",
   "metadata": {},
   "source": [
    "## Carregando shapes"
   ]
  },
  {
   "cell_type": "code",
   "execution_count": 8,
   "metadata": {},
   "outputs": [],
   "source": [
    "# importando Shape dos bairros - polígonos\n",
    "bairros = gpd.read_file('./shapefiles/BaseSSAConder/Lim/bairros_fim.shp', bbox= recorte )\n",
    "\n",
    "# importando Shape das edificaçõs - polilinhas\n",
    "edf = gpd.read_file('./shapefiles/BaseSSAConder/edificacoes_polyline.shp', bbox= recorte)\n",
    "\n",
    "# importando shape de pontos\n",
    "edf_pt = gpd.read_file('./shapefiles/BaseSSAConder/edificacoes_point.shp', bbox = recorte)"
   ]
  },
  {
   "cell_type": "markdown",
   "metadata": {},
   "source": [
    "## Mostrando os dados dos shapes"
   ]
  },
  {
   "cell_type": "markdown",
   "metadata": {},
   "source": [
    "### dados do shape bairros"
   ]
  },
  {
   "cell_type": "code",
   "execution_count": 9,
   "metadata": {
    "scrolled": true
   },
   "outputs": [
    {
     "data": {
      "text/html": [
       "<div>\n",
       "<style scoped>\n",
       "    .dataframe tbody tr th:only-of-type {\n",
       "        vertical-align: middle;\n",
       "    }\n",
       "\n",
       "    .dataframe tbody tr th {\n",
       "        vertical-align: top;\n",
       "    }\n",
       "\n",
       "    .dataframe thead th {\n",
       "        text-align: right;\n",
       "    }\n",
       "</style>\n",
       "<table border=\"1\" class=\"dataframe\">\n",
       "  <thead>\n",
       "    <tr style=\"text-align: right;\">\n",
       "      <th></th>\n",
       "      <th>OBJECTID</th>\n",
       "      <th>BR_</th>\n",
       "      <th>BR_ID</th>\n",
       "      <th>NM_BAIRROS</th>\n",
       "      <th>Shape_Leng</th>\n",
       "      <th>Shape_Area</th>\n",
       "      <th>geometry</th>\n",
       "    </tr>\n",
       "  </thead>\n",
       "  <tbody>\n",
       "    <tr>\n",
       "      <th>0</th>\n",
       "      <td>89</td>\n",
       "      <td>2</td>\n",
       "      <td>1</td>\n",
       "      <td>Lobato</td>\n",
       "      <td>10290.734146</td>\n",
       "      <td>1.508163e+06</td>\n",
       "      <td>POLYGON ((556643.6323074758 8573040.904571733,...</td>\n",
       "    </tr>\n",
       "    <tr>\n",
       "      <th>1</th>\n",
       "      <td>91</td>\n",
       "      <td>2</td>\n",
       "      <td>1</td>\n",
       "      <td>Massaranduba</td>\n",
       "      <td>5027.152427</td>\n",
       "      <td>5.301521e+05</td>\n",
       "      <td>POLYGON ((555124.2668471506 8570956.484697679,...</td>\n",
       "    </tr>\n",
       "    <tr>\n",
       "      <th>2</th>\n",
       "      <td>92</td>\n",
       "      <td>2</td>\n",
       "      <td>1</td>\n",
       "      <td>Santa Luzia</td>\n",
       "      <td>5579.648112</td>\n",
       "      <td>3.957189e+05</td>\n",
       "      <td>POLYGON ((556131.141931782 8571133.633667247, ...</td>\n",
       "    </tr>\n",
       "    <tr>\n",
       "      <th>3</th>\n",
       "      <td>98</td>\n",
       "      <td>2</td>\n",
       "      <td>1</td>\n",
       "      <td>Alto do Cabrito</td>\n",
       "      <td>5031.429303</td>\n",
       "      <td>1.112943e+06</td>\n",
       "      <td>POLYGON ((557394.0547874847 8572993.633136973,...</td>\n",
       "    </tr>\n",
       "    <tr>\n",
       "      <th>4</th>\n",
       "      <td>99</td>\n",
       "      <td>2</td>\n",
       "      <td>1</td>\n",
       "      <td>Capelinha</td>\n",
       "      <td>3337.251376</td>\n",
       "      <td>4.201418e+05</td>\n",
       "      <td>POLYGON ((556500.9559292701 8570974.556498181,...</td>\n",
       "    </tr>\n",
       "  </tbody>\n",
       "</table>\n",
       "</div>"
      ],
      "text/plain": [
       "   OBJECTID  BR_  BR_ID       NM_BAIRROS    Shape_Leng    Shape_Area  \\\n",
       "0        89    2      1           Lobato  10290.734146  1.508163e+06   \n",
       "1        91    2      1     Massaranduba   5027.152427  5.301521e+05   \n",
       "2        92    2      1      Santa Luzia   5579.648112  3.957189e+05   \n",
       "3        98    2      1  Alto do Cabrito   5031.429303  1.112943e+06   \n",
       "4        99    2      1        Capelinha   3337.251376  4.201418e+05   \n",
       "\n",
       "                                            geometry  \n",
       "0  POLYGON ((556643.6323074758 8573040.904571733,...  \n",
       "1  POLYGON ((555124.2668471506 8570956.484697679,...  \n",
       "2  POLYGON ((556131.141931782 8571133.633667247, ...  \n",
       "3  POLYGON ((557394.0547874847 8572993.633136973,...  \n",
       "4  POLYGON ((556500.9559292701 8570974.556498181,...  "
      ]
     },
     "execution_count": 9,
     "metadata": {},
     "output_type": "execute_result"
    }
   ],
   "source": [
    "bairros.head()"
   ]
  },
  {
   "cell_type": "markdown",
   "metadata": {},
   "source": [
    "### Dados do shape edificacoes"
   ]
  },
  {
   "cell_type": "code",
   "execution_count": 10,
   "metadata": {
    "scrolled": false
   },
   "outputs": [
    {
     "data": {
      "text/html": [
       "<div>\n",
       "<style scoped>\n",
       "    .dataframe tbody tr th:only-of-type {\n",
       "        vertical-align: middle;\n",
       "    }\n",
       "\n",
       "    .dataframe tbody tr th {\n",
       "        vertical-align: top;\n",
       "    }\n",
       "\n",
       "    .dataframe thead th {\n",
       "        text-align: right;\n",
       "    }\n",
       "</style>\n",
       "<table border=\"1\" class=\"dataframe\">\n",
       "  <thead>\n",
       "    <tr style=\"text-align: right;\">\n",
       "      <th></th>\n",
       "      <th>ID</th>\n",
       "      <th>geometry</th>\n",
       "    </tr>\n",
       "  </thead>\n",
       "  <tbody>\n",
       "    <tr>\n",
       "      <th>0</th>\n",
       "      <td>357236</td>\n",
       "      <td>LINESTRING (555000.0316226622 8570905.59166144...</td>\n",
       "    </tr>\n",
       "    <tr>\n",
       "      <th>1</th>\n",
       "      <td>357238</td>\n",
       "      <td>LINESTRING (554999.0173801129 8570926.86740669...</td>\n",
       "    </tr>\n",
       "    <tr>\n",
       "      <th>2</th>\n",
       "      <td>357239</td>\n",
       "      <td>LINESTRING (555000.4686540046 8570930.90659893...</td>\n",
       "    </tr>\n",
       "    <tr>\n",
       "      <th>3</th>\n",
       "      <td>357240</td>\n",
       "      <td>LINESTRING (555002.9094328225 8570934.45588914...</td>\n",
       "    </tr>\n",
       "    <tr>\n",
       "      <th>4</th>\n",
       "      <td>357241</td>\n",
       "      <td>LINESTRING (555009.4978864561 8570930.67664492...</td>\n",
       "    </tr>\n",
       "  </tbody>\n",
       "</table>\n",
       "</div>"
      ],
      "text/plain": [
       "       ID                                           geometry\n",
       "0  357236  LINESTRING (555000.0316226622 8570905.59166144...\n",
       "1  357238  LINESTRING (554999.0173801129 8570926.86740669...\n",
       "2  357239  LINESTRING (555000.4686540046 8570930.90659893...\n",
       "3  357240  LINESTRING (555002.9094328225 8570934.45588914...\n",
       "4  357241  LINESTRING (555009.4978864561 8570930.67664492..."
      ]
     },
     "execution_count": 10,
     "metadata": {},
     "output_type": "execute_result"
    }
   ],
   "source": [
    "edf.head()"
   ]
  },
  {
   "cell_type": "code",
   "execution_count": 11,
   "metadata": {},
   "outputs": [
    {
     "data": {
      "text/html": [
       "<div>\n",
       "<style scoped>\n",
       "    .dataframe tbody tr th:only-of-type {\n",
       "        vertical-align: middle;\n",
       "    }\n",
       "\n",
       "    .dataframe tbody tr th {\n",
       "        vertical-align: top;\n",
       "    }\n",
       "\n",
       "    .dataframe thead th {\n",
       "        text-align: right;\n",
       "    }\n",
       "</style>\n",
       "<table border=\"1\" class=\"dataframe\">\n",
       "  <thead>\n",
       "    <tr style=\"text-align: right;\">\n",
       "      <th></th>\n",
       "      <th>ID</th>\n",
       "      <th>geometry</th>\n",
       "    </tr>\n",
       "  </thead>\n",
       "  <tbody>\n",
       "    <tr>\n",
       "      <th>0</th>\n",
       "      <td>367175</td>\n",
       "      <td>(POINT (556360.5184374301 8570865.76962509))</td>\n",
       "    </tr>\n",
       "    <tr>\n",
       "      <th>1</th>\n",
       "      <td>367176</td>\n",
       "      <td>(POINT (556360.5184374301 8570865.76962509))</td>\n",
       "    </tr>\n",
       "    <tr>\n",
       "      <th>2</th>\n",
       "      <td>367177</td>\n",
       "      <td>(POINT (556360.5184374301 8570865.76962509))</td>\n",
       "    </tr>\n",
       "    <tr>\n",
       "      <th>3</th>\n",
       "      <td>367178</td>\n",
       "      <td>(POINT (556497.9771634268 8571237.37531103))</td>\n",
       "    </tr>\n",
       "    <tr>\n",
       "      <th>4</th>\n",
       "      <td>367179</td>\n",
       "      <td>(POINT (556360.5184374301 8570865.76962509))</td>\n",
       "    </tr>\n",
       "  </tbody>\n",
       "</table>\n",
       "</div>"
      ],
      "text/plain": [
       "       ID                                      geometry\n",
       "0  367175  (POINT (556360.5184374301 8570865.76962509))\n",
       "1  367176  (POINT (556360.5184374301 8570865.76962509))\n",
       "2  367177  (POINT (556360.5184374301 8570865.76962509))\n",
       "3  367178  (POINT (556497.9771634268 8571237.37531103))\n",
       "4  367179  (POINT (556360.5184374301 8570865.76962509))"
      ]
     },
     "execution_count": 11,
     "metadata": {},
     "output_type": "execute_result"
    }
   ],
   "source": [
    "edf_pt.head()\n"
   ]
  },
  {
   "cell_type": "markdown",
   "metadata": {},
   "source": [
    "## Plotando imagens"
   ]
  },
  {
   "cell_type": "markdown",
   "metadata": {},
   "source": [
    "### limites do recorte"
   ]
  },
  {
   "cell_type": "code",
   "execution_count": 12,
   "metadata": {},
   "outputs": [
    {
     "ename": "AttributeError",
     "evalue": "Unknown property axis_off",
     "output_type": "error",
     "traceback": [
      "\u001b[1;31m---------------------------------------------------------------------------\u001b[0m",
      "\u001b[1;31mAttributeError\u001b[0m                            Traceback (most recent call last)",
      "\u001b[1;32m<ipython-input-12-a09f9a03f56c>\u001b[0m in \u001b[0;36m<module>\u001b[1;34m\u001b[0m\n\u001b[0;32m     12\u001b[0m \u001b[1;33m\u001b[0m\u001b[0m\n\u001b[0;32m     13\u001b[0m \u001b[1;31m# Plotando as edificações com a cor vermelha\u001b[0m\u001b[1;33m\u001b[0m\u001b[1;33m\u001b[0m\u001b[1;33m\u001b[0m\u001b[0m\n\u001b[1;32m---> 14\u001b[1;33m \u001b[0medf\u001b[0m\u001b[1;33m.\u001b[0m\u001b[0mplot\u001b[0m\u001b[1;33m(\u001b[0m\u001b[0max\u001b[0m\u001b[1;33m=\u001b[0m \u001b[0mlayers\u001b[0m\u001b[1;33m,\u001b[0m \u001b[0mcolor\u001b[0m\u001b[1;33m=\u001b[0m\u001b[1;34m'darkred'\u001b[0m\u001b[1;33m,\u001b[0m \u001b[0mlw\u001b[0m\u001b[1;33m=\u001b[0m \u001b[1;36m0.7\u001b[0m\u001b[1;33m,\u001b[0m \u001b[0maxis_off\u001b[0m \u001b[1;33m=\u001b[0m \u001b[1;32mFalse\u001b[0m\u001b[1;33m)\u001b[0m\u001b[1;33m\u001b[0m\u001b[1;33m\u001b[0m\u001b[0m\n\u001b[0m\u001b[0;32m     15\u001b[0m \u001b[1;33m\u001b[0m\u001b[0m\n\u001b[0;32m     16\u001b[0m \u001b[1;32mtry\u001b[0m\u001b[1;33m:\u001b[0m\u001b[1;33m\u001b[0m\u001b[1;33m\u001b[0m\u001b[0m\n",
      "\u001b[1;32m~\\AppData\\Local\\conda\\conda\\envs\\gpd_psycopg2_ox\\lib\\site-packages\\geopandas\\geodataframe.py\u001b[0m in \u001b[0;36mplot\u001b[1;34m(self, *args, **kwargs)\u001b[0m\n\u001b[0;32m    532\u001b[0m         \u001b[1;32mfrom\u001b[0m \u001b[0mthere\u001b[0m\u001b[1;33m.\u001b[0m\u001b[1;33m\u001b[0m\u001b[1;33m\u001b[0m\u001b[0m\n\u001b[0;32m    533\u001b[0m         \"\"\"\n\u001b[1;32m--> 534\u001b[1;33m         \u001b[1;32mreturn\u001b[0m \u001b[0mplot_dataframe\u001b[0m\u001b[1;33m(\u001b[0m\u001b[0mself\u001b[0m\u001b[1;33m,\u001b[0m \u001b[1;33m*\u001b[0m\u001b[0margs\u001b[0m\u001b[1;33m,\u001b[0m \u001b[1;33m**\u001b[0m\u001b[0mkwargs\u001b[0m\u001b[1;33m)\u001b[0m\u001b[1;33m\u001b[0m\u001b[1;33m\u001b[0m\u001b[0m\n\u001b[0m\u001b[0;32m    535\u001b[0m \u001b[1;33m\u001b[0m\u001b[0m\n\u001b[0;32m    536\u001b[0m     \u001b[0mplot\u001b[0m\u001b[1;33m.\u001b[0m\u001b[0m__doc__\u001b[0m \u001b[1;33m=\u001b[0m \u001b[0mplot_dataframe\u001b[0m\u001b[1;33m.\u001b[0m\u001b[0m__doc__\u001b[0m\u001b[1;33m\u001b[0m\u001b[1;33m\u001b[0m\u001b[0m\n",
      "\u001b[1;32m~\\AppData\\Local\\conda\\conda\\envs\\gpd_psycopg2_ox\\lib\\site-packages\\geopandas\\plotting.py\u001b[0m in \u001b[0;36mplot_dataframe\u001b[1;34m(df, column, cmap, color, ax, categorical, legend, scheme, k, vmin, vmax, markersize, figsize, legend_kwds, **style_kwds)\u001b[0m\n\u001b[0;32m    412\u001b[0m         return plot_series(df.geometry, cmap=cmap, color=color, ax=ax,\n\u001b[0;32m    413\u001b[0m                            \u001b[0mfigsize\u001b[0m\u001b[1;33m=\u001b[0m\u001b[0mfigsize\u001b[0m\u001b[1;33m,\u001b[0m \u001b[0mmarkersize\u001b[0m\u001b[1;33m=\u001b[0m\u001b[0mmarkersize\u001b[0m\u001b[1;33m,\u001b[0m\u001b[1;33m\u001b[0m\u001b[1;33m\u001b[0m\u001b[0m\n\u001b[1;32m--> 414\u001b[1;33m                            **style_kwds)\n\u001b[0m\u001b[0;32m    415\u001b[0m \u001b[1;33m\u001b[0m\u001b[0m\n\u001b[0;32m    416\u001b[0m     \u001b[1;31m# To accept pd.Series and np.arrays as column\u001b[0m\u001b[1;33m\u001b[0m\u001b[1;33m\u001b[0m\u001b[1;33m\u001b[0m\u001b[0m\n",
      "\u001b[1;32m~\\AppData\\Local\\conda\\conda\\envs\\gpd_psycopg2_ox\\lib\\site-packages\\geopandas\\plotting.py\u001b[0m in \u001b[0;36mplot_series\u001b[1;34m(s, cmap, color, ax, figsize, **style_kwds)\u001b[0m\n\u001b[0;32m    299\u001b[0m         \u001b[0mvalues_\u001b[0m \u001b[1;33m=\u001b[0m \u001b[0mvalues\u001b[0m\u001b[1;33m[\u001b[0m\u001b[0mline_idx\u001b[0m\u001b[1;33m]\u001b[0m \u001b[1;32mif\u001b[0m \u001b[0mcmap\u001b[0m \u001b[1;32melse\u001b[0m \u001b[1;32mNone\u001b[0m\u001b[1;33m\u001b[0m\u001b[1;33m\u001b[0m\u001b[0m\n\u001b[0;32m    300\u001b[0m         plot_linestring_collection(ax, lines, values_, color=color, cmap=cmap,\n\u001b[1;32m--> 301\u001b[1;33m                                    **style_kwds)\n\u001b[0m\u001b[0;32m    302\u001b[0m \u001b[1;33m\u001b[0m\u001b[0m\n\u001b[0;32m    303\u001b[0m     \u001b[1;31m# plot all Points in the same collection\u001b[0m\u001b[1;33m\u001b[0m\u001b[1;33m\u001b[0m\u001b[1;33m\u001b[0m\u001b[0m\n",
      "\u001b[1;32m~\\AppData\\Local\\conda\\conda\\envs\\gpd_psycopg2_ox\\lib\\site-packages\\geopandas\\plotting.py\u001b[0m in \u001b[0;36mplot_linestring_collection\u001b[1;34m(ax, geoms, values, color, cmap, vmin, vmax, **kwargs)\u001b[0m\n\u001b[0;32m    153\u001b[0m \u001b[1;33m\u001b[0m\u001b[0m\n\u001b[0;32m    154\u001b[0m     \u001b[0msegments\u001b[0m \u001b[1;33m=\u001b[0m \u001b[1;33m[\u001b[0m\u001b[0mnp\u001b[0m\u001b[1;33m.\u001b[0m\u001b[0marray\u001b[0m\u001b[1;33m(\u001b[0m\u001b[0mlinestring\u001b[0m\u001b[1;33m)\u001b[0m\u001b[1;33m[\u001b[0m\u001b[1;33m:\u001b[0m\u001b[1;33m,\u001b[0m \u001b[1;33m:\u001b[0m\u001b[1;36m2\u001b[0m\u001b[1;33m]\u001b[0m \u001b[1;32mfor\u001b[0m \u001b[0mlinestring\u001b[0m \u001b[1;32min\u001b[0m \u001b[0mgeoms\u001b[0m\u001b[1;33m]\u001b[0m\u001b[1;33m\u001b[0m\u001b[1;33m\u001b[0m\u001b[0m\n\u001b[1;32m--> 155\u001b[1;33m     \u001b[0mcollection\u001b[0m \u001b[1;33m=\u001b[0m \u001b[0mLineCollection\u001b[0m\u001b[1;33m(\u001b[0m\u001b[0msegments\u001b[0m\u001b[1;33m,\u001b[0m \u001b[1;33m**\u001b[0m\u001b[0mkwargs\u001b[0m\u001b[1;33m)\u001b[0m\u001b[1;33m\u001b[0m\u001b[1;33m\u001b[0m\u001b[0m\n\u001b[0m\u001b[0;32m    156\u001b[0m \u001b[1;33m\u001b[0m\u001b[0m\n\u001b[0;32m    157\u001b[0m     \u001b[1;32mif\u001b[0m \u001b[0mvalues\u001b[0m \u001b[1;32mis\u001b[0m \u001b[1;32mnot\u001b[0m \u001b[1;32mNone\u001b[0m\u001b[1;33m:\u001b[0m\u001b[1;33m\u001b[0m\u001b[1;33m\u001b[0m\u001b[0m\n",
      "\u001b[1;32m~\\AppData\\Local\\conda\\conda\\envs\\gpd_psycopg2_ox\\lib\\site-packages\\matplotlib\\collections.py\u001b[0m in \u001b[0;36m__init__\u001b[1;34m(self, segments, linewidths, colors, antialiaseds, linestyles, offsets, transOffset, norm, cmap, pickradius, zorder, facecolors, **kwargs)\u001b[0m\n\u001b[0;32m   1250\u001b[0m             \u001b[0mpickradius\u001b[0m\u001b[1;33m=\u001b[0m\u001b[0mpickradius\u001b[0m\u001b[1;33m,\u001b[0m\u001b[1;33m\u001b[0m\u001b[1;33m\u001b[0m\u001b[0m\n\u001b[0;32m   1251\u001b[0m             \u001b[0mzorder\u001b[0m\u001b[1;33m=\u001b[0m\u001b[0mzorder\u001b[0m\u001b[1;33m,\u001b[0m\u001b[1;33m\u001b[0m\u001b[1;33m\u001b[0m\u001b[0m\n\u001b[1;32m-> 1252\u001b[1;33m             **kwargs)\n\u001b[0m\u001b[0;32m   1253\u001b[0m \u001b[1;33m\u001b[0m\u001b[0m\n\u001b[0;32m   1254\u001b[0m         \u001b[0mself\u001b[0m\u001b[1;33m.\u001b[0m\u001b[0mset_segments\u001b[0m\u001b[1;33m(\u001b[0m\u001b[0msegments\u001b[0m\u001b[1;33m)\u001b[0m\u001b[1;33m\u001b[0m\u001b[1;33m\u001b[0m\u001b[0m\n",
      "\u001b[1;32m~\\AppData\\Local\\conda\\conda\\envs\\gpd_psycopg2_ox\\lib\\site-packages\\matplotlib\\collections.py\u001b[0m in \u001b[0;36m__init__\u001b[1;34m(self, edgecolors, facecolors, linewidths, linestyles, capstyle, joinstyle, antialiaseds, offsets, transOffset, norm, cmap, pickradius, hatch, urls, offset_position, zorder, **kwargs)\u001b[0m\n\u001b[0;32m    168\u001b[0m \u001b[1;33m\u001b[0m\u001b[0m\n\u001b[0;32m    169\u001b[0m         \u001b[0mself\u001b[0m\u001b[1;33m.\u001b[0m\u001b[0m_path_effects\u001b[0m \u001b[1;33m=\u001b[0m \u001b[1;32mNone\u001b[0m\u001b[1;33m\u001b[0m\u001b[1;33m\u001b[0m\u001b[0m\n\u001b[1;32m--> 170\u001b[1;33m         \u001b[0mself\u001b[0m\u001b[1;33m.\u001b[0m\u001b[0mupdate\u001b[0m\u001b[1;33m(\u001b[0m\u001b[0mkwargs\u001b[0m\u001b[1;33m)\u001b[0m\u001b[1;33m\u001b[0m\u001b[1;33m\u001b[0m\u001b[0m\n\u001b[0m\u001b[0;32m    171\u001b[0m         \u001b[0mself\u001b[0m\u001b[1;33m.\u001b[0m\u001b[0m_paths\u001b[0m \u001b[1;33m=\u001b[0m \u001b[1;32mNone\u001b[0m\u001b[1;33m\u001b[0m\u001b[1;33m\u001b[0m\u001b[0m\n\u001b[0;32m    172\u001b[0m \u001b[1;33m\u001b[0m\u001b[0m\n",
      "\u001b[1;32m~\\AppData\\Local\\conda\\conda\\envs\\gpd_psycopg2_ox\\lib\\site-packages\\matplotlib\\artist.py\u001b[0m in \u001b[0;36mupdate\u001b[1;34m(self, props)\u001b[0m\n\u001b[0;32m    886\u001b[0m         \u001b[1;32mtry\u001b[0m\u001b[1;33m:\u001b[0m\u001b[1;33m\u001b[0m\u001b[1;33m\u001b[0m\u001b[0m\n\u001b[0;32m    887\u001b[0m             ret = [_update_property(self, k, v)\n\u001b[1;32m--> 888\u001b[1;33m                    for k, v in props.items()]\n\u001b[0m\u001b[0;32m    889\u001b[0m         \u001b[1;32mfinally\u001b[0m\u001b[1;33m:\u001b[0m\u001b[1;33m\u001b[0m\u001b[1;33m\u001b[0m\u001b[0m\n\u001b[0;32m    890\u001b[0m             \u001b[0mself\u001b[0m\u001b[1;33m.\u001b[0m\u001b[0meventson\u001b[0m \u001b[1;33m=\u001b[0m \u001b[0mstore\u001b[0m\u001b[1;33m\u001b[0m\u001b[1;33m\u001b[0m\u001b[0m\n",
      "\u001b[1;32m~\\AppData\\Local\\conda\\conda\\envs\\gpd_psycopg2_ox\\lib\\site-packages\\matplotlib\\artist.py\u001b[0m in \u001b[0;36m<listcomp>\u001b[1;34m(.0)\u001b[0m\n\u001b[0;32m    886\u001b[0m         \u001b[1;32mtry\u001b[0m\u001b[1;33m:\u001b[0m\u001b[1;33m\u001b[0m\u001b[1;33m\u001b[0m\u001b[0m\n\u001b[0;32m    887\u001b[0m             ret = [_update_property(self, k, v)\n\u001b[1;32m--> 888\u001b[1;33m                    for k, v in props.items()]\n\u001b[0m\u001b[0;32m    889\u001b[0m         \u001b[1;32mfinally\u001b[0m\u001b[1;33m:\u001b[0m\u001b[1;33m\u001b[0m\u001b[1;33m\u001b[0m\u001b[0m\n\u001b[0;32m    890\u001b[0m             \u001b[0mself\u001b[0m\u001b[1;33m.\u001b[0m\u001b[0meventson\u001b[0m \u001b[1;33m=\u001b[0m \u001b[0mstore\u001b[0m\u001b[1;33m\u001b[0m\u001b[1;33m\u001b[0m\u001b[0m\n",
      "\u001b[1;32m~\\AppData\\Local\\conda\\conda\\envs\\gpd_psycopg2_ox\\lib\\site-packages\\matplotlib\\artist.py\u001b[0m in \u001b[0;36m_update_property\u001b[1;34m(self, k, v)\u001b[0m\n\u001b[0;32m    879\u001b[0m                 \u001b[0mfunc\u001b[0m \u001b[1;33m=\u001b[0m \u001b[0mgetattr\u001b[0m\u001b[1;33m(\u001b[0m\u001b[0mself\u001b[0m\u001b[1;33m,\u001b[0m \u001b[1;34m'set_'\u001b[0m \u001b[1;33m+\u001b[0m \u001b[0mk\u001b[0m\u001b[1;33m,\u001b[0m \u001b[1;32mNone\u001b[0m\u001b[1;33m)\u001b[0m\u001b[1;33m\u001b[0m\u001b[1;33m\u001b[0m\u001b[0m\n\u001b[0;32m    880\u001b[0m                 \u001b[1;32mif\u001b[0m \u001b[1;32mnot\u001b[0m \u001b[0mcallable\u001b[0m\u001b[1;33m(\u001b[0m\u001b[0mfunc\u001b[0m\u001b[1;33m)\u001b[0m\u001b[1;33m:\u001b[0m\u001b[1;33m\u001b[0m\u001b[1;33m\u001b[0m\u001b[0m\n\u001b[1;32m--> 881\u001b[1;33m                     \u001b[1;32mraise\u001b[0m \u001b[0mAttributeError\u001b[0m\u001b[1;33m(\u001b[0m\u001b[1;34m'Unknown property %s'\u001b[0m \u001b[1;33m%\u001b[0m \u001b[0mk\u001b[0m\u001b[1;33m)\u001b[0m\u001b[1;33m\u001b[0m\u001b[1;33m\u001b[0m\u001b[0m\n\u001b[0m\u001b[0;32m    882\u001b[0m                 \u001b[1;32mreturn\u001b[0m \u001b[0mfunc\u001b[0m\u001b[1;33m(\u001b[0m\u001b[0mv\u001b[0m\u001b[1;33m)\u001b[0m\u001b[1;33m\u001b[0m\u001b[1;33m\u001b[0m\u001b[0m\n\u001b[0;32m    883\u001b[0m \u001b[1;33m\u001b[0m\u001b[0m\n",
      "\u001b[1;31mAttributeError\u001b[0m: Unknown property axis_off"
     ]
    },
    {
     "data": {
      "image/png": "[encoded data removed]",
      "text/plain": [
       "<Figure size 720x720 with 1 Axes>"
      ]
     },
     "metadata": {
      "needs_background": "light"
     },
     "output_type": "display_data"
    }
   ],
   "source": [
    "fig, layers = plt.subplots(figsize=(10,10)\n",
    "                            #,dpi=30\n",
    "                           )\n",
    "# pltando a imagem de fundo\n",
    "recorte.plot(ax = layers, color = 'blue', alpha = 1)\n",
    "# Plotando os bairros\n",
    "\n",
    "# layers - quadro o qual poderá ser alterado os valores de xmin, xmax, título e etc\n",
    "\n",
    "# Plotando os bairros\n",
    "bairros.plot(ax= layers, color='yellowgreen', edgecolor='black', linestyle=\"--\", lw= 1.5, alpha=1) \n",
    "\n",
    "# Plotando as edificações com a cor vermelha\n",
    "edf.plot(ax= layers, color='darkred', lw= 0.7, axis_off = False)\n",
    "\n",
    "try:\n",
    "    edf_pt.plot(ax= layers, color='orange', lw= 0.7 )\n",
    "except:\n",
    "    pass\n",
    "# titulo da figura\n",
    "fig.suptitle('Imagem Teste', fontsize=16)\n",
    "\n",
    "# limites do gráfico\n",
    "layers.set_xlim(xSC, xSC + deltaX )\n",
    "layers.set_ylim(ySC,  ySC + deltaY )\n",
    "\n",
    "#fig.show()"
   ]
  },
  {
   "cell_type": "markdown",
   "metadata": {},
   "source": [
    "## Lendo Arquivos do banco de dados espaciais online Open Street maps"
   ]
  },
  {
   "cell_type": "markdown",
   "metadata": {},
   "source": [
    "### Através de arquivo baixado manualmente pelo site"
   ]
  },
  {
   "cell_type": "code",
   "execution_count": null,
   "metadata": {},
   "outputs": [],
   "source": [
    "gFile = ox.graph_from_file('./OSM/map.osm')"
   ]
  },
  {
   "cell_type": "code",
   "execution_count": null,
   "metadata": {},
   "outputs": [],
   "source": [
    "gFile"
   ]
  },
  {
   "cell_type": "code",
   "execution_count": null,
   "metadata": {},
   "outputs": [],
   "source": [
    "fig, ax = ox.plot_graph(gFile)\n",
    "plt.tight_layout()"
   ]
  },
  {
   "cell_type": "markdown",
   "metadata": {},
   "source": [
    "### Baixando arquivos por coordenadas limite"
   ]
  },
  {
   "cell_type": "markdown",
   "metadata": {},
   "source": [
    "O open street maps trabalha com coordenadas WGS84, definidas pelo código epsg 4326. O sistema WGS84 utiliza coordenadas em graus de latitude e longitude."
   ]
  },
  {
   "cell_type": "code",
   "execution_count": null,
   "metadata": {},
   "outputs": [],
   "source": [
    "recorte.bounds"
   ]
  },
  {
   "cell_type": "markdown",
   "metadata": {},
   "source": [
    "Para utilizar a mesma geometria limite da utilizada para a importação do Shapefile, é preciso converter o sistema de coordenadas de referência de Sigras 2000 para WGS84."
   ]
  },
  {
   "cell_type": "code",
   "execution_count": null,
   "metadata": {},
   "outputs": [],
   "source": [
    "recorte_LL = recorte.to_crs({'init': 'epsg:4326'})\n",
    "recorte_LL.bounds"
   ]
  },
  {
   "cell_type": "markdown",
   "metadata": {},
   "source": [
    "O elemento de índice 0 da coluna geometry é um polígono da biblioteca shapely."
   ]
  },
  {
   "cell_type": "code",
   "execution_count": null,
   "metadata": {
    "scrolled": true
   },
   "outputs": [],
   "source": [
    " type(recorte_LL.geometry[0])"
   ]
  },
  {
   "cell_type": "markdown",
   "metadata": {},
   "source": [
    "segundo a [documentação do comando ox.graph_from_polygon](https://osmnx.readthedocs.io/en/stable/osmnx.html?highlight=graph_from_place#osmnx.core.graph_from_polygon) ele recebe como priméiro parâmetro um polígono ou multi-polígono da biblioteca citada.\n",
    "\n",
    "O download do multi-grafo depende da conexão com a internet"
   ]
  },
  {
   "cell_type": "code",
   "execution_count": null,
   "metadata": {},
   "outputs": [],
   "source": [
    "gLatLon =  ox.graph_from_polygon(\n",
    "                                   recorte_LL.geometry[0]\n",
    "                                 , network_type = 'all_private'\n",
    "                                 , truncate_by_edge = True\n",
    "                                 , retain_all = True\n",
    "                            )"
   ]
  },
  {
   "cell_type": "code",
   "execution_count": null,
   "metadata": {},
   "outputs": [],
   "source": [
    "gLatLon"
   ]
  },
  {
   "cell_type": "code",
   "execution_count": null,
   "metadata": {},
   "outputs": [],
   "source": [
    "ox.plot_graph(ox.project_graph(gLatLon))"
   ]
  },
  {
   "cell_type": "markdown",
   "metadata": {},
   "source": [
    "### Através do endereço (geocoding)"
   ]
  },
  {
   "cell_type": "code",
   "execution_count": null,
   "metadata": {},
   "outputs": [],
   "source": [
    "gCode = ox.graph_from_place('Salvador, Bahia, Brazil', network_type=\"drive\")"
   ]
  },
  {
   "cell_type": "markdown",
   "metadata": {},
   "source": [
    "O download do multi-grafo depende da conexão com a internet"
   ]
  },
  {
   "cell_type": "code",
   "execution_count": null,
   "metadata": {},
   "outputs": [],
   "source": [
    "gCode"
   ]
  },
  {
   "cell_type": "code",
   "execution_count": null,
   "metadata": {},
   "outputs": [],
   "source": [
    "ox.plot_graph(ox.project_graph(gCode))"
   ]
  },
  {
   "cell_type": "markdown",
   "metadata": {},
   "source": [
    "Centralidade é uma medida da importância de um vértice em um grafo. Os critérios de medida da importância variam. Os quatro mais utilizados são:\n",
    "    1. grau\n",
    "    2. intermediação\n",
    "    3. proximidade\n",
    "    4. vetor próprio\n",
    "    \n",
    "O código abaixo calcula a centralidade de proximidade da malha viária da localidade gravada no grafo do OSM"
   ]
  },
  {
   "cell_type": "code",
   "execution_count": null,
   "metadata": {},
   "outputs": [],
   "source": [
    "# edge closeness centrality: convert graph to line graph so edges become nodes and vice versa\n",
    "edge_centrality = nx.closeness_centrality(nx.line_graph(gCode))"
   ]
  },
  {
   "cell_type": "markdown",
   "metadata": {},
   "source": [
    "O custo computacional do cálculo da centralidade cresce exponencialmente de acordo com o número de vértices do grafo(a execução do código acima pode demorar bastante)"
   ]
  },
  {
   "cell_type": "markdown",
   "metadata": {},
   "source": [
    "O código abaixo desenha um gráfico mostrando, em escala de cores a varição da medida de centralidade da malha viária. "
   ]
  },
  {
   "cell_type": "code",
   "execution_count": null,
   "metadata": {},
   "outputs": [],
   "source": [
    "# list of edge values for the orginal graph\n",
    "ev = [edge_centrality[edge + (0,)] for edge in gCode.edges()]\n",
    "\n",
    "# color scale converted to list of colors for graph edges\n",
    "norm = colors.Normalize(vmin=min(ev)*0.8, vmax=max(ev))\n",
    "cmap = cm.ScalarMappable(norm=norm, cmap=cm.inferno)\n",
    "ec = [cmap.to_rgba(cl) for cl in ev]\n",
    "\n",
    "# color the edges in the original graph with closeness centralities in the line graph\n",
    "fig, ax = ox.plot_graph(gCode, bgcolor='k', axis_off=True, node_size=0,\n",
    "                        edge_color=ec, edge_linewidth=1.5, edge_alpha=1)"
   ]
  },
  {
   "cell_type": "markdown",
   "metadata": {},
   "source": [
    "## Juntando o arquivo do OSM com o Arquivo SHP"
   ]
  },
  {
   "cell_type": "markdown",
   "metadata": {},
   "source": [
    "### Trasnformando de Grafo OSM para geopandas Data frame"
   ]
  },
  {
   "cell_type": "code",
   "execution_count": null,
   "metadata": {},
   "outputs": [],
   "source": [
    "osm_pontos, osm_linhas = ox.save_load.graph_to_gdfs(gLatLon)"
   ]
  },
  {
   "cell_type": "code",
   "execution_count": null,
   "metadata": {},
   "outputs": [],
   "source": [
    "osm_linhas.head()"
   ]
  },
  {
   "cell_type": "markdown",
   "metadata": {},
   "source": [
    "## Sistemas de coordenadas\n",
    "### trasnformando para o sistema Sigras 2000"
   ]
  },
  {
   "cell_type": "code",
   "execution_count": null,
   "metadata": {},
   "outputs": [],
   "source": [
    "# Mudando o sistema de coordenadas de referência\n",
    "\n",
    "# Para o Shape de Pontos\n",
    "osm_pontos.to_crs(bairros.crs, inplace = True)\n",
    "# Para o Shape de Bairros\n",
    "osm_linhas.to_crs(bairros.crs, inplace = True)"
   ]
  },
  {
   "cell_type": "markdown",
   "metadata": {},
   "source": [
    "Odenando as colunas do shape das linhas"
   ]
  },
  {
   "cell_type": "code",
   "execution_count": null,
   "metadata": {},
   "outputs": [],
   "source": [
    "# Ordenando as colunas das linhas para que a coluna de geometria fique por último\n",
    "osm_linhas_cols = osm_linhas.columns.tolist()\n",
    "osm_linhas_cols = [x for x in osm_linhas_cols if x != 'geometry']\n",
    "osm_linhas_cols.append('geometry')\n",
    "osm_linhas = osm_linhas[osm_linhas_cols]"
   ]
  },
  {
   "cell_type": "code",
   "execution_count": null,
   "metadata": {},
   "outputs": [],
   "source": [
    "osm_linhas.head()"
   ]
  },
  {
   "cell_type": "code",
   "execution_count": null,
   "metadata": {},
   "outputs": [],
   "source": [
    "osm_pontos.head()"
   ]
  },
  {
   "cell_type": "markdown",
   "metadata": {},
   "source": [
    "### Estatística descritivas do DF osm_linhas"
   ]
  },
  {
   "cell_type": "code",
   "execution_count": null,
   "metadata": {},
   "outputs": [],
   "source": [
    "osm_linhas.describe(include='all')"
   ]
  },
  {
   "cell_type": "code",
   "execution_count": null,
   "metadata": {
    "scrolled": true
   },
   "outputs": [],
   "source": [
    "fig2, layers2 = plt.subplots(figsize=(10,10)\n",
    "                            #,dpi=30\n",
    "                           )\n",
    "\n",
    "recorte.plot(ax = layers2, color = 'blue', alpha = 1)\n",
    "# Plotando os bairros\n",
    "# Limites preto\n",
    "# alpha - transparência\n",
    "# layers - quadro o qual poderá ser alterado os valores de xmin, xmax, título e etc\n",
    "\n",
    "\n",
    "bairros.plot(ax= layers2, color='yellowgreen', edgecolor='black', linestyle=\"--\", lw= 1.5, alpha=1) \n",
    "\n",
    "# Plotando as edificações com a cor vermelha\n",
    "edf.plot(ax= layers2, color='darkred', lw= 0.7)\n",
    "\n",
    "try:\n",
    "    edf_pt.plot(ax= layers2, color='orange', lw= 0.7, )\n",
    "except:\n",
    "    pass\n",
    "\n",
    "# importados do OSM\n",
    "osm_linhas.plot(ax= layers2, color='teal', lw= 0.8, )\n",
    "osm_pontos.plot(ax= layers2, color='indigo', lw= 0.4, axis_off = False )\n",
    "\n",
    "# titulo da figura\n",
    "fig2.suptitle('Imagem Teste', fontsize=16)\n",
    "\n",
    "# limites do gráfico\n",
    "layers2.set_xlim(xSC, xSC + deltaX )\n",
    "layers2.set_ylim(ySC,  ySC + deltaY )\n"
   ]
  },
  {
   "cell_type": "code",
   "execution_count": null,
   "metadata": {},
   "outputs": [],
   "source": [
    "osm_linhas.dtypes"
   ]
  },
  {
   "cell_type": "code",
   "execution_count": null,
   "metadata": {},
   "outputs": [],
   "source": [
    "osm_linhas.oneway = osm_linhas.oneway.astype(int)\n",
    "osm_linhas.key = osm_linhas.key.astype(int)\n",
    "osm_linhas.name = osm_linhas.name.astype(str)\n",
    "osm_linhas.bridge = osm_linhas.bridge.astype(str)\n"
   ]
  },
  {
   "cell_type": "code",
   "execution_count": null,
   "metadata": {},
   "outputs": [],
   "source": [
    "osm_select = osm_linhas.filter( items= [ 'name', 'oneway','key','length', 'bridge' ,'geometry' ]) "
   ]
  },
  {
   "cell_type": "code",
   "execution_count": null,
   "metadata": {},
   "outputs": [],
   "source": [
    "osm_select.to_file('./output/teste01.shp', driver='ESRI Shapefile')"
   ]
  },
  {
   "cell_type": "code",
   "execution_count": null,
   "metadata": {},
   "outputs": [],
   "source": []
  }
 ],
 "metadata": {
  "kernelspec": {
   "display_name": "Python 3",
   "language": "python",
   "name": "python3"
  },
  "language_info": {
   "codemirror_mode": {
    "name": "ipython",
    "version": 3
   },
   "file_extension": ".py",
   "mimetype": "text/x-python",
   "name": "python",
   "nbconvert_exporter": "python",
   "pygments_lexer": "ipython3",
   "version": "3.7.1"
  }
 },
 "nbformat": 4,
 "nbformat_minor": 2
}
